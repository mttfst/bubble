{
 "cells": [
  {
   "cell_type": "code",
   "execution_count": null,
   "metadata": {},
   "outputs": [],
   "source": [
    "import numpy as np\n",
    "import numpy.ma as ma\n",
    "import matplotlib.pyplot as plt\n",
    "import matplotlib.gridspec as gridspec\n",
    "from mpl_toolkits.mplot3d import Axes3D"
   ]
  },
  {
   "cell_type": "markdown",
   "metadata": {},
   "source": [
    "### Definitions\n",
    "\n",
    "|var name|value<br>exp1|value<br>exp2|unit|definition|\n",
    "|---|---|---|---|---|\n",
    "|posrlon|2.54517||[°E]||\n",
    "|posrlat|2.54879||[°N]|[coordinats](https://xkcd.com/2170/) of the emission point<br>(here in rotated coordinats of the forecast model)|\n",
    "|scale|1.e-6||-|scaling between measured particles and model particles<br>scale=1 model particle = 1 million measured particles|\n",
    "|dt|30||[s]|model time step\n",
    "|emission time|10:50-11:45|13:40-14:30|-|time with particle emission|\n",
    "|ntmsp|110|100|-| number of time steps with particle emission|\n",
    "|itime|20.85|23.65|[h]| start time of the emission in hours after model start|\n",
    "\n",
    "\n",
    "\n"
   ]
  },
  {
   "cell_type": "markdown",
   "metadata": {},
   "source": [
    "### Produce random data for testing"
   ]
  },
  {
   "cell_type": "code",
   "execution_count": null,
   "metadata": {},
   "outputs": [],
   "source": [
    "# Todo"
   ]
  },
  {
   "cell_type": "markdown",
   "metadata": {},
   "source": [
    "### Read in data from Environmental Dust Monitor"
   ]
  },
  {
   "cell_type": "code",
   "execution_count": null,
   "metadata": {},
   "outputs": [],
   "source": [
    "# filenames\n",
    "fname1 = 'GRIMM_1.5m_diff_exp2.data'\n",
    "fname2 = 'GRIMM_3.8m_diff_exp2.data'\n",
    "\n",
    "f1 = open(fname1,encoding = 'unicode_escape')\n",
    "f2 = open(fname2,encoding = 'unicode_escape')\n",
    "\n",
    "# read header\n",
    "head=f1.readline()\n",
    "head=f1.readline()\n",
    "head=f2.readline()\n",
    "head=f2.readline()\n",
    "\n",
    "# read bin names form the header\n",
    "binnames = []\n",
    "for i in head.split():\n",
    "    if(int(i[0].isdigit())):\n",
    "        binnames.append(i)\n",
    "binnames.append('>32.0')\n",
    "\n",
    "# read the data to np.array\n",
    "data1 = np.loadtxt(f1,usecols=range(2,33))\n",
    "data2 = np.loadtxt(f2,usecols=range(2,33))\n",
    "\n",
    "#dimension of the data set\n",
    "dim_data=data1.shape\n",
    "\n",
    "\n",
    "# definition of the peak in the data & removal of the background noise\n",
    "\n",
    "# exp1 \n",
    "# dat1 = data1[459,:]-np.median(data1[:,:],axis=0)\n",
    "# dat2 = data2[463,:]-np.median(data2[:,:],axis=0)\n",
    "\n",
    "# exp2\n",
    "dat1 = data1[181,:]-np.median(data1[:,:],axis=0)\n",
    "dat2 = data2[179,:]-np.median(data2[:,:],axis=0)"
   ]
  },
  {
   "cell_type": "code",
   "execution_count": null,
   "metadata": {},
   "outputs": [],
   "source": []
  }
 ],
 "metadata": {
  "kernelspec": {
   "display_name": "Python 3",
   "language": "python",
   "name": "python3"
  },
  "language_info": {
   "codemirror_mode": {
    "name": "ipython",
    "version": 3
   },
   "file_extension": ".py",
   "mimetype": "text/x-python",
   "name": "python",
   "nbconvert_exporter": "python",
   "pygments_lexer": "ipython3",
   "version": "3.7.3"
  }
 },
 "nbformat": 4,
 "nbformat_minor": 2
}
